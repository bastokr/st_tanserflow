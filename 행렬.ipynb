{
  "nbformat": 4,
  "nbformat_minor": 0,
  "metadata": {
    "colab": {
      "provenance": [],
      "authorship_tag": "ABX9TyM0ihrr3BYcxJgQ62+03W+B",
      "include_colab_link": true
    },
    "kernelspec": {
      "name": "python3",
      "display_name": "Python 3"
    },
    "language_info": {
      "name": "python"
    }
  },
  "cells": [
    {
      "cell_type": "markdown",
      "metadata": {
        "id": "view-in-github",
        "colab_type": "text"
      },
      "source": [
        "<a href=\"https://colab.research.google.com/github/bastokr/st_tanserflow/blob/main/%ED%96%89%EB%A0%AC.ipynb\" target=\"_parent\"><img src=\"https://colab.research.google.com/assets/colab-badge.svg\" alt=\"Open In Colab\"/></a>"
      ]
    },
    {
      "cell_type": "markdown",
      "source": [
        "행렬은 차수가 1인 벡터를 같은 축방향으로 나열 (1차원백터를 원소로 같은 다차원배열)"
      ],
      "metadata": {
        "id": "ojScepzAVrAh"
      }
    },
    {
      "cell_type": "code",
      "source": [
        "import tensorflow as tf\n",
        "\n",
        "list_of_list = [[10,20], [30,40]]\n",
        "\n",
        "mat1 = tf.constant(list_of_list)\n",
        "\n",
        "print(\"rank\",tf.rank(mat1))\n",
        "print(\"matl:\",mat1)"
      ],
      "metadata": {
        "colab": {
          "base_uri": "https://localhost:8080/"
        },
        "id": "cLPyZ5UUV5UF",
        "outputId": "1441f0b3-6050-43f4-d28e-49fd9d6d7a88"
      },
      "execution_count": 9,
      "outputs": [
        {
          "output_type": "stream",
          "name": "stdout",
          "text": [
            "rank tf.Tensor(2, shape=(), dtype=int32)\n",
            "matl: tf.Tensor(\n",
            "[[10 20]\n",
            " [30 40]], shape=(2, 2), dtype=int32)\n"
          ]
        }
      ]
    },
    {
      "cell_type": "markdown",
      "source": [
        "1차원 배열 합치기"
      ],
      "metadata": {
        "id": "rXDUTyRSWdxR"
      }
    },
    {
      "cell_type": "code",
      "source": [
        "vec1 = tf.constant([1,0])\n",
        "vec2 = tf.constant([-1,2])\n",
        "\n",
        "\n",
        "mat2 = tf.stack([vec1,vec2])\n",
        "\n",
        "print(\"rank\",tf.rank(mat2))\n",
        "\n",
        "print(\"mat2\",mat2)\n"
      ],
      "metadata": {
        "colab": {
          "base_uri": "https://localhost:8080/"
        },
        "id": "_2exIVCDWjRd",
        "outputId": "c1ad2e7e-fca7-42f2-95ec-b3a7c444c388"
      },
      "execution_count": 10,
      "outputs": [
        {
          "output_type": "stream",
          "name": "stdout",
          "text": [
            "rank tf.Tensor(2, shape=(), dtype=int32)\n",
            "mat2 tf.Tensor(\n",
            "[[ 1  0]\n",
            " [-1  2]], shape=(2, 2), dtype=int32)\n"
          ]
        }
      ]
    },
    {
      "cell_type": "markdown",
      "source": [
        "연산"
      ],
      "metadata": {
        "id": "HKwB2dvcXLCu"
      }
    },
    {
      "cell_type": "code",
      "source": [
        "element_mul = tf.math.multiply(mat1,mat2)\n",
        "\n",
        "print(\"rank\",tf.rank(element_mul))\n",
        "\n",
        "print(\"result\",element_mul)\n",
        "\n",
        "element_bc = tf.math.multiply(element_mul,3)\n",
        "\n",
        "print(\"result\",element_bc)\n"
      ],
      "metadata": {
        "colab": {
          "base_uri": "https://localhost:8080/"
        },
        "id": "QsHAoG9rXRV9",
        "outputId": "a4d00cdc-473b-499a-fee1-dacddfa006de"
      },
      "execution_count": 14,
      "outputs": [
        {
          "output_type": "stream",
          "name": "stdout",
          "text": [
            "rank tf.Tensor(2, shape=(), dtype=int32)\n",
            "result tf.Tensor(\n",
            "[[ 10   0]\n",
            " [-30  80]], shape=(2, 2), dtype=int32)\n",
            "result tf.Tensor(\n",
            "[[ 30   0]\n",
            " [-90 240]], shape=(2, 2), dtype=int32)\n"
          ]
        }
      ]
    },
    {
      "cell_type": "markdown",
      "source": [
        "형태 변환"
      ],
      "metadata": {
        "id": "qIEIIOA7avmT"
      }
    },
    {
      "cell_type": "code",
      "source": [
        "import tensorflow as tf\n",
        "tensor = tf.constant(range(0,24))\n",
        "print(tensor)\n",
        "\n",
        "tensor1 = tf.reshape(tensor,[3,8])\n",
        "\n",
        "print(tensor1)"
      ],
      "metadata": {
        "colab": {
          "base_uri": "https://localhost:8080/"
        },
        "id": "8wAxi8njayhM",
        "outputId": "b25432c3-58f9-4dbd-f9e4-d9bbbe66d104"
      },
      "execution_count": 17,
      "outputs": [
        {
          "output_type": "stream",
          "name": "stdout",
          "text": [
            "tf.Tensor([ 0  1  2  3  4  5  6  7  8  9 10 11 12 13 14 15 16 17 18 19 20 21 22 23], shape=(24,), dtype=int32)\n",
            "tf.Tensor(\n",
            "[[ 0  1  2  3  4  5  6  7]\n",
            " [ 8  9 10 11 12 13 14 15]\n",
            " [16 17 18 19 20 21 22 23]], shape=(3, 8), dtype=int32)\n"
          ]
        }
      ]
    }
  ]
}