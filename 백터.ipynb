{
  "nbformat": 4,
  "nbformat_minor": 0,
  "metadata": {
    "colab": {
      "provenance": [],
      "authorship_tag": "ABX9TyOdOR3QYcxy4LaSKx6qY/Lx",
      "include_colab_link": true
    },
    "kernelspec": {
      "name": "python3",
      "display_name": "Python 3"
    },
    "language_info": {
      "name": "python"
    }
  },
  "cells": [
    {
      "cell_type": "markdown",
      "metadata": {
        "id": "view-in-github",
        "colab_type": "text"
      },
      "source": [
        "<a href=\"https://colab.research.google.com/github/bastokr/st_tanserflow/blob/main/%EB%B0%B1%ED%84%B0.ipynb\" target=\"_parent\"><img src=\"https://colab.research.google.com/assets/colab-badge.svg\" alt=\"Open In Colab\"/></a>"
      ]
    },
    {
      "cell_type": "markdown",
      "source": [
        "스칼라 값을 원소로 갖는 1차원 배열  (원소의 나열 : 숫자 문자 값 ......)\n"
      ],
      "metadata": {
        "id": "CdTe-C5wQ792"
      }
    },
    {
      "cell_type": "code",
      "source": [
        "import tensorflow as tf\n",
        "import numpy as np\n",
        "\n",
        "py_list = [10.,20.,30.]\n",
        "num_arr = np.array([10.,10.,10.])\n",
        "\n",
        "vec1 = tf.constant(py_list, dtype=tf.float32)\n",
        "vec2 = tf.constant(num_arr,  dtype=tf.float32)\n",
        "\n",
        "\n"
      ],
      "metadata": {
        "id": "wjXQo2sNQ9lM"
      },
      "execution_count": null,
      "outputs": []
    },
    {
      "cell_type": "markdown",
      "source": [
        "랭크확인"
      ],
      "metadata": {
        "id": "K2jDG_UnT0Il"
      }
    },
    {
      "cell_type": "code",
      "source": [
        "print(\"vec1\",vec1)\n",
        "print(\"vec2\",vec2)\n",
        "\n",
        "print(tf.rank(vec1))\n",
        "print(tf.rank(vec2))"
      ],
      "metadata": {
        "colab": {
          "base_uri": "https://localhost:8080/"
        },
        "id": "_MIvBo5nT2Qd",
        "outputId": "cf983670-c276-495c-93f1-3a1a8ad72498"
      },
      "execution_count": null,
      "outputs": [
        {
          "output_type": "stream",
          "name": "stdout",
          "text": [
            "vec1 tf.Tensor([10. 20. 30.], shape=(3,), dtype=float32)\n",
            "vec2 tf.Tensor([10. 10. 10.], shape=(3,), dtype=float32)\n",
            "tf.Tensor(1, shape=(), dtype=int32)\n",
            "tf.Tensor(1, shape=(), dtype=int32)\n"
          ]
        }
      ]
    },
    {
      "cell_type": "markdown",
      "source": [
        "덧셈함수"
      ],
      "metadata": {
        "id": "SDZ4LFN8UBzd"
      }
    },
    {
      "cell_type": "code",
      "source": [
        "add1 = tf.math.add(vec1,vec2)\n",
        "print(\"result\",add1)\n",
        "print(\"rank\",tf.rank(add1))"
      ],
      "metadata": {
        "colab": {
          "base_uri": "https://localhost:8080/"
        },
        "id": "KCCMp1aGT9tV",
        "outputId": "bc911036-b973-4e25-c002-882369abe275"
      },
      "execution_count": null,
      "outputs": [
        {
          "output_type": "stream",
          "name": "stdout",
          "text": [
            "result tf.Tensor([20. 30. 40.], shape=(3,), dtype=float32)\n",
            "rank tf.Tensor(1, shape=(), dtype=int32)\n"
          ]
        }
      ]
    },
    {
      "cell_type": "markdown",
      "source": [
        "덧셈연산자"
      ],
      "metadata": {
        "id": "3Hs-fuPrUaZq"
      }
    },
    {
      "cell_type": "code",
      "source": [
        "add2 = vec1 + vec2\n",
        "print(\"result:\",add2)\n",
        "print(\"rank:\", tf.rank(add2))"
      ],
      "metadata": {
        "colab": {
          "base_uri": "https://localhost:8080/"
        },
        "id": "n96AtXIgTjy1",
        "outputId": "bf37757b-9433-4704-dc74-74bc9ee4d730"
      },
      "execution_count": null,
      "outputs": [
        {
          "output_type": "stream",
          "name": "stdout",
          "text": [
            "result: tf.Tensor([20. 30. 40.], shape=(3,), dtype=float32)\n",
            "rank: tf.Tensor(1, shape=(), dtype=int32)\n"
          ]
        }
      ]
    },
    {
      "cell_type": "markdown",
      "source": [
        "모듈연산자"
      ],
      "metadata": {
        "id": "XUYgzhNhVMW3"
      }
    },
    {
      "cell_type": "code",
      "source": [],
      "metadata": {
        "id": "iveFvaiyVPBG"
      },
      "execution_count": null,
      "outputs": []
    }
  ]
}