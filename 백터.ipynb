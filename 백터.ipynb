{
  "cells": [
    {
      "attachments": {},
      "cell_type": "markdown",
      "metadata": {
        "colab_type": "text",
        "id": "view-in-github"
      },
      "source": [
        "<a href=\"https://colab.research.google.com/github/bastokr/st_tanserflow/blob/main/%EB%B0%B1%ED%84%B0.ipynb\" target=\"_parent\"><img src=\"https://colab.research.google.com/assets/colab-badge.svg\" alt=\"Open In Colab\"/></a>"
      ]
    },
    {
      "attachments": {},
      "cell_type": "markdown",
      "metadata": {
        "id": "CdTe-C5wQ792"
      },
      "source": [
        "스칼라 값을 원소로 갖는 1차원 배열  (원소의 나열 : 숫자 문자 값 ......)\n"
      ]
    },
    {
      "cell_type": "code",
      "execution_count": 1,
      "metadata": {
        "id": "wjXQo2sNQ9lM"
      },
      "outputs": [],
      "source": [
        "import tensorflow as tf\n",
        "import numpy as np\n",
        "\n",
        "py_list = [10.,20.,30.]\n",
        "num_arr = np.array([10.,10.,10.])\n",
        "\n",
        "vec1 = tf.constant(py_list, dtype=tf.float32)\n",
        "vec2 = tf.constant(num_arr,  dtype=tf.float32)\n",
        "\n",
        "\n"
      ]
    },
    {
      "attachments": {},
      "cell_type": "markdown",
      "metadata": {
        "id": "K2jDG_UnT0Il"
      },
      "source": [
        "랭크확인"
      ]
    },
    {
      "cell_type": "code",
      "execution_count": null,
      "metadata": {
        "colab": {
          "base_uri": "https://localhost:8080/"
        },
        "id": "_MIvBo5nT2Qd",
        "outputId": "cf983670-c276-495c-93f1-3a1a8ad72498"
      },
      "outputs": [
        {
          "name": "stdout",
          "output_type": "stream",
          "text": [
            "vec1 tf.Tensor([10. 20. 30.], shape=(3,), dtype=float32)\n",
            "vec2 tf.Tensor([10. 10. 10.], shape=(3,), dtype=float32)\n",
            "tf.Tensor(1, shape=(), dtype=int32)\n",
            "tf.Tensor(1, shape=(), dtype=int32)\n"
          ]
        }
      ],
      "source": [
        "print(\"vec1\",vec1)\n",
        "print(\"vec2\",vec2)\n",
        "\n",
        "print(tf.rank(vec1))\n",
        "print(tf.rank(vec2))"
      ]
    },
    {
      "attachments": {},
      "cell_type": "markdown",
      "metadata": {
        "id": "SDZ4LFN8UBzd"
      },
      "source": [
        "덧셈함수"
      ]
    },
    {
      "cell_type": "code",
      "execution_count": null,
      "metadata": {
        "colab": {
          "base_uri": "https://localhost:8080/"
        },
        "id": "KCCMp1aGT9tV",
        "outputId": "bc911036-b973-4e25-c002-882369abe275"
      },
      "outputs": [
        {
          "name": "stdout",
          "output_type": "stream",
          "text": [
            "result tf.Tensor([20. 30. 40.], shape=(3,), dtype=float32)\n",
            "rank tf.Tensor(1, shape=(), dtype=int32)\n"
          ]
        }
      ],
      "source": [
        "add1 = tf.math.add(vec1,vec2)\n",
        "print(\"result\",add1)\n",
        "print(\"rank\",tf.rank(add1))"
      ]
    },
    {
      "attachments": {},
      "cell_type": "markdown",
      "metadata": {
        "id": "3Hs-fuPrUaZq"
      },
      "source": [
        "덧셈연산자"
      ]
    },
    {
      "cell_type": "code",
      "execution_count": null,
      "metadata": {
        "colab": {
          "base_uri": "https://localhost:8080/"
        },
        "id": "n96AtXIgTjy1",
        "outputId": "bf37757b-9433-4704-dc74-74bc9ee4d730"
      },
      "outputs": [
        {
          "name": "stdout",
          "output_type": "stream",
          "text": [
            "result: tf.Tensor([20. 30. 40.], shape=(3,), dtype=float32)\n",
            "rank: tf.Tensor(1, shape=(), dtype=int32)\n"
          ]
        }
      ],
      "source": [
        "add2 = vec1 + vec2\n",
        "print(\"result:\",add2)\n",
        "print(\"rank:\", tf.rank(add2))"
      ]
    },
    {
      "attachments": {},
      "cell_type": "markdown",
      "metadata": {
        "id": "XUYgzhNhVMW3"
      },
      "source": [
        "모듈연산자"
      ]
    },
    {
      "cell_type": "code",
      "execution_count": null,
      "metadata": {
        "id": "iveFvaiyVPBG"
      },
      "outputs": [],
      "source": []
    }
  ],
  "metadata": {
    "colab": {
      "authorship_tag": "ABX9TyOdOR3QYcxy4LaSKx6qY/Lx",
      "include_colab_link": true,
      "provenance": []
    },
    "kernelspec": {
      "display_name": "Python 3",
      "name": "python3"
    },
    "language_info": {
      "codemirror_mode": {
        "name": "ipython",
        "version": 3
      },
      "file_extension": ".py",
      "mimetype": "text/x-python",
      "name": "python",
      "nbconvert_exporter": "python",
      "pygments_lexer": "ipython3",
      "version": "3.10.11"
    }
  },
  "nbformat": 4,
  "nbformat_minor": 0
}
