{
  "nbformat": 4,
  "nbformat_minor": 0,
  "metadata": {
    "colab": {
      "provenance": [],
      "toc_visible": true,
      "gpuType": "T4",
      "mount_file_id": "1OvBfYizGlVVW7rj44m8cMPPabv2rr4V-",
      "authorship_tag": "ABX9TyOVohONlHIdUf0/Svo6xPdS",
      "include_colab_link": true
    },
    "kernelspec": {
      "name": "python3",
      "display_name": "Python 3"
    },
    "language_info": {
      "name": "python"
    },
    "accelerator": "GPU"
  },
  "cells": [
    {
      "cell_type": "markdown",
      "metadata": {
        "id": "view-in-github",
        "colab_type": "text"
      },
      "source": [
        "<a href=\"https://colab.research.google.com/github/bastokr/st_tanserflow/blob/main/%ED%85%90%EC%8A%A4%ED%92%80%EB%A1%9C%EC%98%88%EC%A0%9C.ipynb\" target=\"_parent\"><img src=\"https://colab.research.google.com/assets/colab-badge.svg\" alt=\"Open In Colab\"/></a>"
      ]
    },
    {
      "cell_type": "markdown",
      "source": [
        "1.텐서플로 import해보기"
      ],
      "metadata": {
        "id": "wgjGR0f29TMG"
      }
    },
    {
      "cell_type": "code",
      "execution_count": 3,
      "metadata": {
        "id": "pB3FMQRs7zlh"
      },
      "outputs": [],
      "source": [
        "import tensorflow as tf"
      ]
    },
    {
      "cell_type": "markdown",
      "source": [
        "2 버전확인"
      ],
      "metadata": {
        "id": "qXTOySN9HhYP"
      }
    },
    {
      "cell_type": "code",
      "source": [
        "print(tf.__version__)"
      ],
      "metadata": {
        "colab": {
          "base_uri": "https://localhost:8080/"
        },
        "id": "E4VeEsVJ8LFm",
        "outputId": "c454dcdc-04a0-4013-b314-02399def63bf"
      },
      "execution_count": 8,
      "outputs": [
        {
          "output_type": "stream",
          "name": "stdout",
          "text": [
            "2.12.0\n"
          ]
        }
      ]
    },
    {
      "cell_type": "markdown",
      "source": [
        "3.교제의 소스받아오기"
      ],
      "metadata": {
        "id": "SOzPtBGkHZDd"
      }
    },
    {
      "cell_type": "code",
      "source": [
        "pwd"
      ],
      "metadata": {
        "id": "vyn9N8iy9U6u"
      },
      "execution_count": null,
      "outputs": []
    },
    {
      "cell_type": "code",
      "source": [
        "cd \"/content/drive/MyDrive/Colab Notebooks\""
      ],
      "metadata": {
        "id": "3t5haM789Y-x"
      },
      "execution_count": null,
      "outputs": []
    },
    {
      "cell_type": "code",
      "source": [
        "pwd"
      ],
      "metadata": {
        "id": "8D_cTigQ9lIx"
      },
      "execution_count": null,
      "outputs": []
    },
    {
      "cell_type": "code",
      "source": [
        "!git clone https://github.com/lovedlim/tensorflow.git"
      ],
      "metadata": {
        "id": "9locRP459pVx"
      },
      "execution_count": null,
      "outputs": []
    },
    {
      "cell_type": "code",
      "source": [
        "텐서플로 특징 계산결과값을 도출가능 여부 함수"
      ],
      "metadata": {
        "id": "4txmsMaLH5u5"
      },
      "execution_count": null,
      "outputs": []
    },
    {
      "cell_type": "code",
      "source": [
        "print(tf.executing_eagerly())"
      ],
      "metadata": {
        "id": "gpt3np55_jPW",
        "outputId": "f15bdde1-0f46-44fd-86bc-47577f9efd39",
        "colab": {
          "base_uri": "https://localhost:8080/"
        }
      },
      "execution_count": 4,
      "outputs": [
        {
          "output_type": "stream",
          "name": "stdout",
          "text": [
            "True\n"
          ]
        }
      ]
    },
    {
      "cell_type": "markdown",
      "source": [
        "5.간다한 계산 함수"
      ],
      "metadata": {
        "id": "gt9iWe9sIf8T"
      }
    },
    {
      "cell_type": "code",
      "source": [
        "a=1;\n",
        "b=2;\n",
        "c=tf.math.add(a,b)\n",
        "print(c)"
      ],
      "metadata": {
        "id": "9lU_93QCIJRb",
        "outputId": "141c129d-dcda-429d-d9d3-6cffdfbadf9f",
        "colab": {
          "base_uri": "https://localhost:8080/"
        }
      },
      "execution_count": 6,
      "outputs": [
        {
          "output_type": "stream",
          "name": "stdout",
          "text": [
            "tf.Tensor(3, shape=(), dtype=int32)\n"
          ]
        }
      ]
    },
    {
      "cell_type": "markdown",
      "source": [
        "6.계산결과값 확인"
      ],
      "metadata": {
        "id": "-FRYNdwAHSU9"
      }
    },
    {
      "cell_type": "code",
      "source": [
        "c.numpy()"
      ],
      "metadata": {
        "id": "pI_mHc_eIbjb",
        "outputId": "65a6725f-ac53-4c52-fa22-427e171d248a",
        "colab": {
          "base_uri": "https://localhost:8080/"
        }
      },
      "execution_count": 7,
      "outputs": [
        {
          "output_type": "execute_result",
          "data": {
            "text/plain": [
              "3"
            ]
          },
          "metadata": {},
          "execution_count": 7
        }
      ]
    },
    {
      "cell_type": "markdown",
      "source": [
        "스칼라의 정의 : 정수나 실수와같은 상수"
      ],
      "metadata": {
        "id": "xJxanHU1NYvE"
      }
    },
    {
      "cell_type": "code",
      "source": [
        "a = tf.constant(1)\n",
        "b = tf.constant(2)\n",
        "print(\"a\",a)\n",
        "print(\"b\",b)"
      ],
      "metadata": {
        "id": "J-myku3eM8LI",
        "outputId": "0b5543f8-9740-450f-dded-49f215f81d95",
        "colab": {
          "base_uri": "https://localhost:8080/"
        }
      },
      "execution_count": 10,
      "outputs": [
        {
          "output_type": "stream",
          "name": "stdout",
          "text": [
            "a tf.Tensor(1, shape=(), dtype=int32)\n",
            "b tf.Tensor(2, shape=(), dtype=int32)\n"
          ]
        }
      ]
    },
    {
      "cell_type": "code",
      "source": [
        "print(tf.rank(a))"
      ],
      "metadata": {
        "id": "LXgyrG4KOOti",
        "outputId": "1521f61a-8495-4fdc-8362-a9c4698c5d80",
        "colab": {
          "base_uri": "https://localhost:8080/"
        }
      },
      "execution_count": 11,
      "outputs": [
        {
          "output_type": "stream",
          "name": "stdout",
          "text": [
            "tf.Tensor(0, shape=(), dtype=int32)\n"
          ]
        }
      ]
    },
    {
      "cell_type": "code",
      "source": [
        "tf.math.add(a,b)\n",
        "print(\"result\",c)\n",
        "print(\"rank\",tf.rank(c))\n",
        "print(tf.math.subtract(a,b))\n",
        "print(tf.math.multiply(a,b))\n",
        "print(tf.math.divide(a,b))\n",
        "print(tf.math.mod(a,b))\n",
        "print(tf.math.floordiv(a,b))"
      ],
      "metadata": {
        "id": "tUiKdPhaOziE",
        "outputId": "2c53b485-4c7a-4f56-d778-020267bd345c",
        "colab": {
          "base_uri": "https://localhost:8080/"
        }
      },
      "execution_count": 21,
      "outputs": [
        {
          "output_type": "stream",
          "name": "stdout",
          "text": [
            "result tf.Tensor(3, shape=(), dtype=int32)\n",
            "rank tf.Tensor(0, shape=(), dtype=int32)\n",
            "tf.Tensor(-1, shape=(), dtype=int32)\n",
            "tf.Tensor(2, shape=(), dtype=int32)\n",
            "tf.Tensor(0.5, shape=(), dtype=float64)\n",
            "tf.Tensor(1, shape=(), dtype=int32)\n",
            "tf.Tensor(0, shape=(), dtype=int32)\n"
          ]
        }
      ]
    }
  ]
}