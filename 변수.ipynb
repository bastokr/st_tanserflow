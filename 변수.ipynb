{
  "cells": [
    {
      "attachments": {},
      "cell_type": "markdown",
      "metadata": {
        "colab_type": "text",
        "id": "view-in-github"
      },
      "source": [
        "<a href=\"https://colab.research.google.com/github/bastokr/st_tanserflow/blob/main/%EB%B3%80%EC%88%98.ipynb\" target=\"_parent\"><img src=\"https://colab.research.google.com/assets/colab-badge.svg\" alt=\"Open In Colab\"/></a>"
      ]
    },
    {
      "cell_type": "code",
      "execution_count": 4,
      "metadata": {
        "colab": {
          "base_uri": "https://localhost:8080/"
        },
        "id": "p9rnzop6h2LU",
        "outputId": "b8c970b9-2e24-4d95-c0d9-ceb8eb35a432"
      },
      "outputs": [
        {
          "name": "stdout",
          "output_type": "stream",
          "text": [
            "tf.Tensor(\n",
            "[[0 1 2]\n",
            " [3 4 5]], shape=(2, 3), dtype=int32)\n"
          ]
        }
      ],
      "source": [
        "import tensorflow as tf\n",
        "\n",
        "tensor1 = tf.constant([[0,1,2],[3,4,5]])\n",
        "\n",
        "print(tensor1)"
      ]
    },
    {
      "attachments": {},
      "cell_type": "markdown",
      "metadata": {
        "id": "j2u0QAIrj4KA"
      },
      "source": [
        "변수 생성"
      ]
    },
    {
      "cell_type": "code",
      "execution_count": 6,
      "metadata": {
        "colab": {
          "base_uri": "https://localhost:8080/"
        },
        "id": "lwvwlTNEj5un",
        "outputId": "31245a1f-283a-4ca3-f1be-c477042d8ac1"
      },
      "outputs": [
        {
          "name": "stdout",
          "output_type": "stream",
          "text": [
            "<tf.Variable 'Variable:0' shape=(2, 3) dtype=int32, numpy=\n",
            "array([[0, 1, 2],\n",
            "       [3, 4, 5]])>\n",
            "이름1 Variable:0\n",
            "크기 (2, 3)\n",
            "자료형 <dtype: 'int32'>\n",
            "배열 [[0 1 2]\n",
            " [3 4 5]]\n",
            "tf.Tensor(\n",
            "[[1 1 1]\n",
            " [2 2 2]], shape=(2, 3), dtype=int32)\n"
          ]
        },
        {
          "data": {
            "text/plain": [
              "<tf.Tensor: shape=(2, 3), dtype=int32, numpy=\n",
              "array([[2, 2, 2],\n",
              "       [4, 4, 4]])>"
            ]
          },
          "execution_count": 6,
          "metadata": {},
          "output_type": "execute_result"
        }
      ],
      "source": [
        "tensor_var1 = tf.Variable(tensor1)\n",
        "print(tensor_var1)\n",
        "\n",
        "print(\"이름1\", tensor_var1.name)\n",
        "print(\"크기\", tensor_var1.shape)\n",
        "print(\"자료형\", tensor_var1.dtype)\n",
        "print(\"배열\", tensor_var1.numpy())\n",
        "\n",
        "tensor_var1.assign([[1,1,1],[2,2,2]])\n",
        "\n",
        "tensor2 = tf.convert_to_tensor(tensor_var1);\n",
        "\n",
        "print(tensor2)\n",
        "\n",
        "tensor_var2 = tf.Variable(tensor2, name=\"New Name\")\n",
        "\n",
        "tensor_var1 + tensor_var2\n",
        "\n",
        "\n",
        "\n",
        "\n"
      ]
    }
  ],
  "metadata": {
    "colab": {
      "authorship_tag": "ABX9TyOvWkVYg/XKjAJPUJuebsJW",
      "include_colab_link": true,
      "provenance": []
    },
    "kernelspec": {
      "display_name": "Python 3",
      "name": "python3"
    },
    "language_info": {
      "codemirror_mode": {
        "name": "ipython",
        "version": 3
      },
      "file_extension": ".py",
      "mimetype": "text/x-python",
      "name": "python",
      "nbconvert_exporter": "python",
      "pygments_lexer": "ipython3",
      "version": "3.10.11"
    }
  },
  "nbformat": 4,
  "nbformat_minor": 0
}
