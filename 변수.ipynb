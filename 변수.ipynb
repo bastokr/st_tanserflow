{
  "nbformat": 4,
  "nbformat_minor": 0,
  "metadata": {
    "colab": {
      "provenance": [],
      "authorship_tag": "ABX9TyOvWkVYg/XKjAJPUJuebsJW",
      "include_colab_link": true
    },
    "kernelspec": {
      "name": "python3",
      "display_name": "Python 3"
    },
    "language_info": {
      "name": "python"
    }
  },
  "cells": [
    {
      "cell_type": "markdown",
      "metadata": {
        "id": "view-in-github",
        "colab_type": "text"
      },
      "source": [
        "<a href=\"https://colab.research.google.com/github/bastokr/st_tanserflow/blob/main/%EB%B3%80%EC%88%98.ipynb\" target=\"_parent\"><img src=\"https://colab.research.google.com/assets/colab-badge.svg\" alt=\"Open In Colab\"/></a>"
      ]
    },
    {
      "cell_type": "code",
      "execution_count": 3,
      "metadata": {
        "colab": {
          "base_uri": "https://localhost:8080/"
        },
        "id": "p9rnzop6h2LU",
        "outputId": "b8c970b9-2e24-4d95-c0d9-ceb8eb35a432"
      },
      "outputs": [
        {
          "output_type": "stream",
          "name": "stdout",
          "text": [
            "tf.Tensor(\n",
            "[[0 1 2]\n",
            " [3 4 5]], shape=(2, 3), dtype=int32)\n"
          ]
        }
      ],
      "source": [
        "import tensorflow as tf\n",
        "\n",
        "tensor1 = tf.constant([[0,1,2],[3,4,5]])\n",
        "\n",
        "print(tensor1)"
      ]
    },
    {
      "cell_type": "markdown",
      "source": [
        "변수 생성"
      ],
      "metadata": {
        "id": "j2u0QAIrj4KA"
      }
    },
    {
      "cell_type": "code",
      "source": [
        "tensor_var1 = tf.Variable(tensor1)\n",
        "print(tensor_var1)\n",
        "\n",
        "print(\"이름1\", tensor_var1.name)\n",
        "print(\"크기\", tensor_var1.shape)\n",
        "print(\"자료형\", tensor_var1.dtype)\n",
        "print(\"배열\", tensor_var1.numpy())\n",
        "\n",
        "tensor_var1.assign([[1,1,1],[2,2,2]])\n",
        "\n",
        "tensor2 = tf.convert_to_tensor(tensor_var1);\n",
        "\n",
        "print(tensor2)\n",
        "\n",
        "tensor_var2 = tf.Variable(tensor2, name=\"New Name\")\n",
        "\n",
        "tensor_var1 + tensor_var2\n",
        "\n",
        "\n",
        "\n",
        "\n",
        ""
      ],
      "metadata": {
        "colab": {
          "base_uri": "https://localhost:8080/"
        },
        "id": "lwvwlTNEj5un",
        "outputId": "31245a1f-283a-4ca3-f1be-c477042d8ac1"
      },
      "execution_count": 14,
      "outputs": [
        {
          "output_type": "stream",
          "name": "stdout",
          "text": [
            "<tf.Variable 'Variable:0' shape=(2, 3) dtype=int32, numpy=\n",
            "array([[0, 1, 2],\n",
            "       [3, 4, 5]], dtype=int32)>\n",
            "이름1 Variable:0\n",
            "크기 (2, 3)\n",
            "자료형 <dtype: 'int32'>\n",
            "배열 [[0 1 2]\n",
            " [3 4 5]]\n",
            "tf.Tensor(\n",
            "[[1 1 1]\n",
            " [2 2 2]], shape=(2, 3), dtype=int32)\n"
          ]
        },
        {
          "output_type": "execute_result",
          "data": {
            "text/plain": [
              "<tf.Tensor: shape=(2, 3), dtype=int32, numpy=\n",
              "array([[2, 2, 2],\n",
              "       [4, 4, 4]], dtype=int32)>"
            ]
          },
          "metadata": {},
          "execution_count": 14
        }
      ]
    }
  ]
}